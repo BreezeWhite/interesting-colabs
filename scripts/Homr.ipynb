{
  "nbformat": 4,
  "nbformat_minor": 0,
  "metadata": {
    "colab": {
      "private_outputs": true,
      "provenance": [],
      "gpuType": "T4"
    },
    "kernelspec": {
      "name": "python3",
      "display_name": "Python 3"
    },
    "language_info": {
      "name": "python"
    },
    "accelerator": "GPU"
  },
  "cells": [
    {
      "cell_type": "markdown",
      "source": [
        "# Homr\n",
        "\n",
        "## Optical Music Recognition (OMR). Transforms music sheet photo into MusicXML.\n",
        "\n",
        "Original Author: [Christian Liebhardt](https://github.com/liebharc)\n",
        "\n",
        "Provided By: [BreezeWhite](https://github.com/BreezeWhite)\n",
        "\n",
        "Original Github: https://github.com/liebharc/homr\n",
        "\n",
        "[![Open In Colab](https://colab.research.google.com/assets/colab-badge.svg)](https://colab.research.google.com/github/BreezeWhite/interesting-colabs/blob/main/scripts/Homr.ipynb)"
      ],
      "metadata": {
        "id": "OdIPCsvdOkGa"
      }
    },
    {
      "cell_type": "code",
      "execution_count": null,
      "metadata": {
        "cellView": "form",
        "id": "xaXlClsnHOLo"
      },
      "outputs": [],
      "source": [
        "#@title Setup\n",
        "\n",
        "!add-apt-repository --yes ppa:mscore-ubuntu/mscore3-stable\n",
        "!apt-get update\n",
        "!apt-get --yes install musescore3\n",
        "!pip install git+https://github.com/liebharc/homr\n",
        "\n",
        "%load_ext autoreload\n",
        "%autoreload 2"
      ]
    },
    {
      "cell_type": "code",
      "source": [
        "#@title Upload Image\n",
        "\n",
        "%matplotlib inline\n",
        "\n",
        "from google.colab import files\n",
        "import matplotlib.pyplot as plt\n",
        "import cv2\n",
        "import os\n",
        "\n",
        "ff = files.upload()\n",
        "img_path = list(ff.keys())[0]\n",
        "basename = img_path.replace(\".jpg\", \"\").replace(\".png\", \"\")\n",
        "\n",
        "os.environ['img_path'] = img_path\n",
        "os.environ['basename'] = basename\n",
        "\n",
        "plt.rcParams['figure.figsize'] = (12, 12)\n",
        "plt.axis('off')\n",
        "img = cv2.imread(img_path)\n",
        "plt.imshow(img)\n",
        "plt.show()"
      ],
      "metadata": {
        "cellView": "form",
        "id": "n9BVT5wMK-Ga"
      },
      "execution_count": null,
      "outputs": []
    },
    {
      "cell_type": "code",
      "source": [
        "#@title Run\n",
        "\n",
        "import IPython.display as dsp\n",
        "import matplotlib.pyplot as plt\n",
        "\n",
        "%env DEBIAN_FRONTEND=noninteractive\n",
        "%env QT_QPA_PLATFORM=offscreen\n",
        "\n",
        "!homr \"$img_path\"\n",
        "\n",
        "!musescore3 -o \"${basename}.mp3\" $basename.musicxml\n",
        "!musescore3 -o \"${basename}.png\" $basename.musicxml\n",
        "\n",
        "\n",
        "img = plt.imread(f\"{basename}-1.png\")\n",
        "plt.rcParams['figure.figsize'] = (15, 15)\n",
        "plt.axis('off')\n",
        "plt.imshow(img)\n",
        "plt.show()\n",
        "\n",
        "dsp.display(dsp.Audio(f\"{basename}.mp3\"))"
      ],
      "metadata": {
        "cellView": "form",
        "id": "zRV1iptCI9i5"
      },
      "execution_count": null,
      "outputs": []
    }
  ]
}