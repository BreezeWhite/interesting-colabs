{
  "cells": [
    {
      "cell_type": "markdown",
      "metadata": {
        "id": "Jny9CGNw1Rjn"
      },
      "source": [
        "# Lifespan Synthesis\n",
        "\n",
        "### Synthesis one's face with different ages and render into a video.\n",
        "\n",
        "Original Author: [royorel](https://github.com/royorel)\n",
        "\n",
        "Colab Provided by: [BreezeWhite](https://github.com/BreezeWhite)\n",
        "\n",
        "Original Github: https://github.com/royorel/Lifespan_Age_Transformation_Synthesis\n",
        "\n",
        "[![Open In Colab](https://colab.research.google.com/assets/colab-badge.svg)](https://colab.research.google.com/github/BreezeWhite/interesting-colabs/blob/main/scripts/LifespanSynthesis.ipynb)"
      ]
    },
    {
      "cell_type": "code",
      "execution_count": null,
      "metadata": {
        "cellView": "form",
        "id": "J2uubo7PsvxQ"
      },
      "outputs": [],
      "source": [
        "#@title Setup\n",
        "\n",
        "!git clone https://github.com/royorel/Lifespan_Age_Transformation_Synthesis\n",
        "%cd Lifespan_Age_Transformation_Synthesis/\n",
        "!pip3 install unidecode dominate\n",
        "\n",
        "%run download_models.py\n",
        "\n",
        "\n",
        "import os\n",
        "from collections import OrderedDict\n",
        "from IPython.display import HTML\n",
        "from base64 import b64encode\n",
        "\n",
        "import util.util as util\n",
        "from options.test_options import TestOptions\n",
        "from data.data_loader import CreateDataLoader\n",
        "from models.models import create_model\n",
        "from util.visualizer import Visualizer\n",
        "\n",
        "\n",
        "opt = TestOptions().parse(save=False)\n",
        "opt.display_id = 0 # do not launch visdom\n",
        "opt.nThreads = 1   # test code only supports nThreads = 1\n",
        "opt.batchSize = 1  # test code only supports batchSize = 1\n",
        "opt.serial_batches = True  # no shuffle\n",
        "opt.no_flip = True  # no flip\n",
        "opt.in_the_wild = True # This triggers preprocessing of in the wild images in the dataloader\n",
        "opt.traverse = True # This tells the model to traverse the latent space between anchor classes\n",
        "opt.interp_step = 0.05 # this controls the number of images to interpolate between anchor classes\n",
        "\n",
        "data_loader = CreateDataLoader(opt)\n",
        "dataset = data_loader.load_data()\n",
        "visualizer = Visualizer(opt)\n",
        "\n",
        "\n",
        "def gen_video_html(img_path, fine_size):\n",
        "  webm_out_path = os.path.join('results', os.path.splitext(img_path)[0].replace(' ', '_') + '.webm')\n",
        "  !ffmpeg -i $out_path -c:v libvpx-vp9 -crf 30 -b:v 0 -b:a 128k -c:a libopus $webm_out_path\n",
        "\n",
        "  video_type = \"video/webm\"\n",
        "  video = open(webm_out_path, 'rb').read()\n",
        "  data_url = \"data:video/mp4;base64,\" + b64encode(video).decode()\n",
        "  return HTML(f\"\"\"\n",
        "    <video width={fine_size} controls>\n",
        "      <source src=\"{data_url}\" type=\"{video_type}\">\n",
        "    </video>\n",
        "  \"\"\")\n"
      ]
    },
    {
      "cell_type": "code",
      "execution_count": null,
      "metadata": {
        "cellView": "form",
        "id": "tSUoSNW_k8dz"
      },
      "outputs": [],
      "source": [
        "#@title Upload Image\n",
        "\n",
        "from google.colab import files\n",
        "from IPython.display import display\n",
        "from PIL import Image\n",
        "\n",
        "ff = files.upload()\n",
        "f_name = list(ff.keys())[0]\n",
        "display(Image.open(f_name))"
      ]
    },
    {
      "cell_type": "code",
      "execution_count": null,
      "metadata": {
        "cellView": "form",
        "id": "lptdOpimlGeY"
      },
      "outputs": [],
      "source": [
        "#@title Run\n",
        "\n",
        "from IPython.display import clear_output\n",
        "\n",
        "is_man = False #@param {type:\"boolean\"}\n",
        "\n",
        "opt.name = 'males_model' if is_man else 'females_model'\n",
        "model = create_model(opt)\n",
        "model.eval()\n",
        "clear_output()\n",
        "\n",
        "data = dataset.dataset.get_item_from_path(f_name)\n",
        "visuals = model.inference(data)\n",
        "os.makedirs('results', exist_ok=True)\n",
        "out_path = os.path.join('results', os.path.splitext(f_name)[0].replace(' ', '_') + '.mp4')\n",
        "visualizer.make_video(visuals, out_path)\n",
        "\n",
        "html = gen_video_html(f_name, opt.fineSize)\n",
        "clear_output()\n",
        "display(html)\n"
      ]
    }
  ],
  "metadata": {
    "accelerator": "GPU",
    "colab": {
      "collapsed_sections": [],
      "name": "LifespanSynthesis.ipynb",
      "private_outputs": true,
      "provenance": []
    },
    "kernelspec": {
      "display_name": "Python 3",
      "name": "python3"
    }
  },
  "nbformat": 4,
  "nbformat_minor": 0
}
